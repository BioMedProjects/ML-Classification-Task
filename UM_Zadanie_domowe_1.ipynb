{
 "cells": [
  {
   "cell_type": "markdown",
   "id": "7b223c90",
   "metadata": {},
   "source": [
    "# Uczenie maszynowe <br> Zadanie domowe nr 1: Klasyfikacja wektorów nośnych i regresja logistyczna - z elementami konkursu\n",
    "Politechnika Gdańska, Wydział ETI, Katedra Inżynierii Biomedycznej"
   ]
  },
  {
   "cell_type": "markdown",
   "id": "f222f2fe",
   "metadata": {},
   "source": [
    "# Cel:\n",
    "Opracować procedurę złożoną z przetwarzania wstępnego oraz klasyfikacji danych w celu uzyskania jak najlepszych wyników klasyfikacji dla zadanego zbioru danych."
   ]
  },
  {
   "cell_type": "markdown",
   "id": "62a3c46b",
   "metadata": {},
   "source": [
    "# Problem:\n",
    "Dla zbioru CIFAR-10 należy wybrać przykłady dla wskazanych 3 klas. Następnie opracować procedurę w celu uzyskania najlepszych wyników klasyfikacji mierzonych z użyciem miary F1-score, F1 = 2(recall*precision)/(recall+precision). Do wyznaczenia wartości miary należy zastosować funkcję f1_score z pakietu scikit-learn (from sklearn.metrics import f1_score)."
   ]
  },
  {
   "cell_type": "markdown",
   "id": "5103633b",
   "metadata": {},
   "source": [
    "# Dane studentów\n",
    "imię, nazwisko, numer indeksu, dane grupy, data, <br>"
   ]
  },
  {
   "cell_type": "code",
   "execution_count": 1,
   "id": "bfb672a6",
   "metadata": {},
   "outputs": [
    {
     "name": "stdout",
     "output_type": "stream",
     "text": [
      "The original training dataset shape: (50000, 1)\n",
      "The original test dataset shape: (10000, 1)\n",
      "The reduced training dataset size: (15000, 1)\n",
      "The reduced test dataset size: (3000, 1)\n",
      "True label: truck\n"
     ]
    },
    {
     "data": {
      "image/png": "[encoded data removed]",
      "text/plain": [
       "<Figure size 432x288 with 1 Axes>"
      ]
     },
     "metadata": {
      "needs_background": "light"
     },
     "output_type": "display_data"
    }
   ],
   "source": [
    "# Download data and select classes 'plane', 'cat', 'truck'\n",
    "\n",
    "import random\n",
    "\n",
    "from keras.datasets import cifar10\n",
    "import tensorflow as tf\n",
    "import numpy as np\n",
    "import matplotlib.pyplot as plt\n",
    "from sklearn.svm import SVC\n",
    "from sklearn.decomposition import PCA\n",
    "from sklearn.metrics import confusion_matrix, f1_score, classification_report\n",
    "\n",
    "(x_train, y_train), (x_test, y_test) = cifar10.load_data()\n",
    "class_names = ['plane', 'car', 'bird', 'cat', 'deer', 'dog', 'frog', 'horse', 'ship', 'truck']\n",
    "\n",
    "indexes = [0, 3, 9]\n",
    "\n",
    "idx_train = np.array([idx for idx in range(y_train.shape[0]) if y_train[idx] in indexes])\n",
    "idx_test = np.array([idx for idx in range(y_test.shape[0]) if y_test[idx] in indexes])\n",
    "\n",
    "x_train_r = x_train[idx_train]\n",
    "y_train_r = y_train[idx_train]\n",
    "\n",
    "x_test_r = x_test[idx_test]\n",
    "y_test_r = y_test[idx_test]\n",
    "\n",
    "print(f\"The original training dataset shape: {y_train.shape}\")\n",
    "print(f\"The original test dataset shape: {y_test.shape}\")\n",
    "print(f\"The reduced training dataset size: {y_train_r.shape}\")\n",
    "print(f\"The reduced test dataset size: {y_test_r.shape}\")\n",
    "\n",
    "example_id = random.randrange(len(idx_train))\n",
    "example_true_label = class_names[y_train[idx_train[example_id]][0]]\n",
    "print(f\"True label: {example_true_label}\")\n",
    "example_img = x_train[idx_train[example_id],:,:,:]\n",
    "plt.imshow(example_img)\n",
    "plt.show()"
   ]
  },
  {
   "cell_type": "code",
   "execution_count": 2,
   "id": "f0cab368",
   "metadata": {},
   "outputs": [],
   "source": [
    "# Preprocessing\n",
    "\n",
    "x_train_flat = x_train_r.reshape((x_train_r.shape[0], x_train_r.shape[1]*x_train_r.shape[2]*x_train_r.shape[3]))\n",
    "x_test_flat = x_test_r.reshape((x_test_r.shape[0], x_test_r.shape[1]*x_test_r.shape[2]*x_test_r.shape[3]))\n",
    "\n",
    "x_train_flat = x_train_flat.astype('float32')/255.0\n",
    "x_test_flat = x_test_flat.astype('float32')/255.0\n",
    "\n",
    "pca =  PCA(n_components=5)\n",
    "pca.fit(x_train_flat)\n",
    "x_train_flat_pca = pca.transform(x_train_flat)\n",
    "x_test_flat_pca = pca.transform(x_test_flat)\n",
    "\n",
    "X_tr = x_train_flat_pca\n",
    "X_te = x_test_flat_pca"
   ]
  },
  {
   "cell_type": "code",
   "execution_count": 3,
   "id": "a38126de",
   "metadata": {},
   "outputs": [
    {
     "name": "stdout",
     "output_type": "stream",
     "text": [
      "Accuracy: 0.8146\n",
      "Confusion matrix:\n",
      "[[3973  406  621]\n",
      " [ 274 4244  482]\n",
      " [ 440  558 4002]]\n",
      "F1 score: 0.8146208080589746\n",
      "Classification report:\n",
      "              precision    recall  f1-score   support\n",
      "\n",
      "       plane       0.85      0.79      0.82      5000\n",
      "         cat       0.81      0.85      0.83      5000\n",
      "       truck       0.78      0.80      0.79      5000\n",
      "\n",
      "    accuracy                           0.81     15000\n",
      "   macro avg       0.82      0.81      0.81     15000\n",
      "weighted avg       0.82      0.81      0.81     15000\n",
      "\n"
     ]
    }
   ],
   "source": [
    "# Classification\n",
    "\n",
    "model = SVC(kernel='rbf', decision_function_shape='ovo', C=1, gamma=\"auto\")\n",
    "model.fit(X_tr, y_train_r.ravel())\n",
    "\n",
    "pred_train = model.predict(X_tr)\n",
    "\n",
    "accuracy_train = model.score(X_tr, y_train_r)\n",
    "print(f\"Accuracy: {accuracy_train}\")\n",
    "\n",
    "print(\"Confusion matrix:\")\n",
    "conf_matrix_train = confusion_matrix(y_train_r, pred_train)\n",
    "print(conf_matrix_train)\n",
    "\n",
    "f1_score_train = f1_score(y_train_r, pred_train, average=\"macro\")\n",
    "print(f\"F1 score: {f1_score_train}\")\n",
    "\n",
    "target_names = ['plane', 'cat', 'truck']\n",
    "print(\"Classification report:\")\n",
    "classification_report_train = classification_report(y_train_r, pred_train, target_names=target_names)\n",
    "print(classification_report_train)"
   ]
  },
  {
   "cell_type": "code",
   "execution_count": 4,
   "id": "e64789e2",
   "metadata": {},
   "outputs": [
    {
     "name": "stdout",
     "output_type": "stream",
     "text": [
      "Accuracy: 0.6613333333333333\n",
      "Confusion matrix:\n",
      "[[655 155 190]\n",
      " [103 732 165]\n",
      " [176 227 597]]\n",
      "F1 score: 0.6605196606399658\n",
      "Classification report:\n",
      "              precision    recall  f1-score   support\n",
      "\n",
      "       plane       0.70      0.66      0.68      1000\n",
      "         cat       0.66      0.73      0.69      1000\n",
      "       truck       0.63      0.60      0.61      1000\n",
      "\n",
      "    accuracy                           0.66      3000\n",
      "   macro avg       0.66      0.66      0.66      3000\n",
      "weighted avg       0.66      0.66      0.66      3000\n",
      "\n"
     ]
    }
   ],
   "source": [
    "# Validation\n",
    "\n",
    "pred_test = model.predict(X_te)\n",
    "\n",
    "accuracy_test = model.score(X_te, y_test_r)\n",
    "print(f\"Accuracy: {accuracy_test}\")\n",
    "\n",
    "print(\"Confusion matrix:\")\n",
    "conf_matrix_test = confusion_matrix(y_test_r, pred_test)\n",
    "print(conf_matrix_test)\n",
    "\n",
    "f1_score_test = f1_score(y_test_r, pred_test, average=\"macro\")\n",
    "print(f\"F1 score: {f1_score_test}\")\n",
    "\n",
    "print(\"Classification report:\")\n",
    "classification_report_test = classification_report(y_test_r, pred_test, target_names=target_names)\n",
    "print(classification_report_test)"
   ]
  },
  {
   "cell_type": "code",
   "execution_count": 5,
   "id": "7229354e",
   "metadata": {},
   "outputs": [
    {
     "name": "stdout",
     "output_type": "stream",
     "text": [
      "(1, 5)\n",
      "Class names: ['plane', 'cat', 'truck']\n",
      "True class codes at indexes [0, 1, 2]: [0, 3, 9]\n",
      "Predicted class code: [0]\n",
      "Predicted class label: plane\n",
      "Scores for each class: [[0.51985801 0.62674602 0.58515049]]\n",
      "True label: plane\n"
     ]
    },
    {
     "data": {
      "image/png": "[encoded data removed]",
      "text/plain": [
       "<Figure size 432x288 with 1 Axes>"
      ]
     },
     "metadata": {
      "needs_background": "light"
     },
     "output_type": "display_data"
    }
   ],
   "source": [
    "test_example_id = random.randrange(len(idx_test))\n",
    "size = X_te.shape[1]\n",
    "t = (X_te[test_example_id]).reshape((1,size))\n",
    "print(t.shape)\n",
    "\n",
    "pred_t = model.predict(t)\n",
    "\n",
    "print(f\"Class names: {target_names}\")\n",
    "print(f\"True class codes at indexes [0, 1, 2]: {indexes}\")\n",
    "print(f\"Predicted class code: {pred_t}\")\n",
    "print(f\"Predicted class label: {class_names[pred_t[0]]}\")\n",
    "\n",
    "scores = model.decision_function(t)\n",
    "print(f\"Scores for each class: {scores}\")\n",
    "\n",
    "example_test_true_label = class_names[y_test[idx_test[test_example_id]][0]]\n",
    "print(f\"True label: {example_test_true_label}\")\n",
    "\n",
    "example_test_image = x_test[idx_test[test_example_id],:,:,:]\n",
    "plt.imshow(example_test_image)\n",
    "plt.show()"
   ]
  },
  {
   "cell_type": "code",
   "execution_count": 6,
   "id": "3afc3b5b",
   "metadata": {},
   "outputs": [],
   "source": [
    "# Extra validation"
   ]
  },
  {
   "cell_type": "code",
   "execution_count": null,
   "id": "3dd889c8",
   "metadata": {},
   "outputs": [],
   "source": []
  }
 ],
 "metadata": {
  "kernelspec": {
   "display_name": "Python 3",
   "language": "python",
   "name": "python3"
  },
  "language_info": {
   "codemirror_mode": {
    "name": "ipython",
    "version": 3
   },
   "file_extension": ".py",
   "mimetype": "text/x-python",
   "name": "python",
   "nbconvert_exporter": "python",
   "pygments_lexer": "ipython3",
   "version": "3.8.8"
  }
 },
 "nbformat": 4,
 "nbformat_minor": 5
}

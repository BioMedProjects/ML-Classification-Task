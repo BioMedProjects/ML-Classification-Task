{
 "cells": [
  {
   "cell_type": "markdown",
   "id": "7b223c90",
   "metadata": {},
   "source": [
    "# Uczenie maszynowe <br> Zadanie domowe nr 1: Klasyfikacja wektorów nośnych i regresja logistyczna - z elementami konkursu\n",
    "Politechnika Gdańska, Wydział ETI, Katedra Inżynierii Biomedycznej"
   ]
  },
  {
   "cell_type": "markdown",
   "id": "f222f2fe",
   "metadata": {},
   "source": [
    "# Cel:\n",
    "Opracować procedurę złożoną z przetwarzania wstępnego oraz klasyfikacji danych w celu uzyskania jak najlepszych wyników klasyfikacji dla zadanego zbioru danych."
   ]
  },
  {
   "cell_type": "markdown",
   "id": "62a3c46b",
   "metadata": {},
   "source": [
    "# Problem:\n",
    "Dla zbioru CIFAR-10 należy wybrać przykłady dla wskazanych 3 klas. Następnie opracować procedurę w celu uzyskania najlepszych wyników klasyfikacji mierzonych z użyciem miary F1-score, F1 = 2(recall*precision)/(recall+precision). Do wyznaczenia wartości miary należy zastosować funkcję f1_score z pakietu scikit-learn (from sklearn.metrics import f1_score)."
   ]
  },
  {
   "cell_type": "markdown",
   "id": "5103633b",
   "metadata": {},
   "source": [
    "a) dane studentów (imię, nazwisko, numer indeksu), dane grupy, dane przedmiotu, datę, <br>\n",
    "b) komórki związane z pobraniem danych oraz wyborem danych dla wskazanych klas do dalszej analizy, <br>\n",
    "c) komórki związane z przetwarzaniem wstępnym, <br>\n",
    "d) komórki związane z klasyfikacją danych, <br>\n",
    "e) komórki związane z walidacją modelu (dla danych testowych) wraz z wyznaczeniem i wydrukiem macierzy pomyłek oraz wartości F1 <br>\n",
    "•    można używać jedynie klasyfikatorów typu: SVC/SVM (dowolnej wersji i implementacji ze wskazaniem wartości hiperparametrów) lub regresji logistycznej (dowolnej wersji i implementacji ze wskazaniem wartości hiperparametrów). NIE MOŻNA używać innych metod klasyfikacji (MLP, CNN, itp.).<br>\n",
    "•    notatnik powinien zawierać ostatnią komórkę przygotowaną do testowania z dodatkowym zbiorem testowym jaki wykorzystają prowadzący do oceny<br>\n",
    "•    rozwiązanie powinno być zrealizowane w Pythonie można stosować biblioteki scikit-learn i/lub Keras, TensorFlow, Pytorch."
   ]
  },
  {
   "cell_type": "code",
   "execution_count": 1,
   "id": "323b8860",
   "metadata": {},
   "outputs": [],
   "source": [
    "# Pobranie danych oraz wybór danych dla wskazanych klas do dalszej analizy"
   ]
  },
  {
   "cell_type": "code",
   "execution_count": 2,
   "id": "bfb672a6",
   "metadata": {},
   "outputs": [
    {
     "name": "stdout",
     "output_type": "stream",
     "text": [
      "The original training dataset shape:  (50000, 1)\n",
      "The original test dataset shape:  (10000, 1)\n",
      "The reduced training dataset size:  (15000, 1)\n",
      "The reduced test dataset size:  (3000, 1)\n",
      "(50000, 32, 32, 3)\n"
     ]
    },
    {
     "data": {
      "image/png": "[encoded data removed]",
      "text/plain": [
       "<Figure size 432x288 with 1 Axes>"
      ]
     },
     "metadata": {
      "needs_background": "light"
     },
     "output_type": "display_data"
    },
    {
     "name": "stdout",
     "output_type": "stream",
     "text": [
      "True label:  cat\n"
     ]
    }
   ],
   "source": [
    "from keras.datasets import cifar10\n",
    "import tensorflow as tf\n",
    "import numpy as np\n",
    "import matplotlib.pyplot as plt\n",
    "\n",
    "(x_train, y_train), (x_test, y_test) = cifar10.load_data()\n",
    "\n",
    "class_names = ['plane', 'car', 'bird', 'cat', 'deer', 'dog', 'frog', 'horse', 'ship', 'truck']\n",
    "\n",
    "# select three classes: 'plane', 'cat', 'truck'\n",
    "indexes = [0,3,9]\n",
    "\n",
    "idx_train = np.array([idx for idx in range(y_train.shape[0]) if y_train[idx] in indexes])\n",
    "idx_test = np.array([idx for idx in range(y_test.shape[0]) if y_test[idx] in indexes])\n",
    "\n",
    "x_train_r = x_train[idx_train]\n",
    "y_train_r = y_train[idx_train]\n",
    "\n",
    "x_test_r = x_test[idx_test]\n",
    "y_test_r = y_test[idx_test]\n",
    "\n",
    "print(\"The original training dataset shape: \", y_train.shape)\n",
    "print(\"The original test dataset shape: \", y_test.shape)\n",
    "\n",
    "print(\"The reduced training dataset size: \", y_train_r.shape)\n",
    "print(\"The reduced test dataset size: \", y_test_r.shape)\n",
    "\n",
    "# show and axample\n",
    "example = 100\n",
    "print(x_train.shape)\n",
    "plt.imshow(x_train[idx_train[example],:,:,:])\n",
    "plt.show()\n",
    "print(\"True label: \", class_names[y_train[idx_train[example]][0]])"
   ]
  },
  {
   "cell_type": "code",
   "execution_count": 3,
   "id": "da9d0b2a",
   "metadata": {},
   "outputs": [],
   "source": [
    "# Przetwarzanie wstępne"
   ]
  },
  {
   "cell_type": "code",
   "execution_count": 4,
   "id": "f0cab368",
   "metadata": {},
   "outputs": [
    {
     "name": "stdout",
     "output_type": "stream",
     "text": [
      "[0.28179833 0.1229191  0.06429598 0.04226445 0.03903807 0.02828309\n",
      " 0.02404532 0.0212168  0.02039854 0.01539721]\n"
     ]
    }
   ],
   "source": [
    "from sklearn.svm import SVC\n",
    "from sklearn.linear_model import LogisticRegression\n",
    "from sklearn.multiclass import OneVsOneClassifier\n",
    "from sklearn.decomposition import PCA\n",
    "from sklearn.metrics import confusion_matrix, f1_score\n",
    "\n",
    "# Reshape data - flatten (1D)\n",
    "x_train_flat = x_train_r.reshape((x_train_r.shape[0], x_train_r.shape[1]*x_train_r.shape[2]*x_train_r.shape[3]))\n",
    "x_test_flat = x_test_r.reshape((x_test_r.shape[0], x_test_r.shape[1]*x_test_r.shape[2]*x_test_r.shape[3]))\n",
    "\n",
    "# Normalize data from (0-255) to (0.0-1.0)  \n",
    "x_train_flat = x_train_flat.astype('float32')/255.0\n",
    "x_test_flat = x_test_flat.astype('float32')/255.0\n",
    "\n",
    "# Define prepocessing and do transformation\n",
    "pca =  PCA(n_components=10)\n",
    "components = pca.fit_transform(x_train_flat)\n",
    "print(pca.explained_variance_ratio_)\n",
    "\n",
    "# Use new features or original RAW features - uncomment appropriate\n",
    "X_tr = components\n",
    "X_te = pca.fit_transform(x_test_flat)\n",
    "\n",
    "# X_tr = x_train_flat\n",
    "# X_te = x_test_flat"
   ]
  },
  {
   "cell_type": "code",
   "execution_count": 5,
   "id": "688e083a",
   "metadata": {},
   "outputs": [],
   "source": [
    "# Klasyfikacja danych"
   ]
  },
  {
   "cell_type": "code",
   "execution_count": 6,
   "id": "a38126de",
   "metadata": {},
   "outputs": [
    {
     "name": "stdout",
     "output_type": "stream",
     "text": [
      "Mean accuracy:  0.45966666666666667\n",
      "Confusion matrix:\n",
      "[[364 329 307]\n",
      " [282 524 194]\n",
      " [275 234 491]]\n",
      "F1 score:  0.4580324598196792\n"
     ]
    }
   ],
   "source": [
    "# Use a selected model with a given multi-class classification strategy\n",
    "# model = LogisticRegression(multi_class='ovr')\n",
    "# model = LogisticRegression(multi_class='multinomial')  # softmax loss function \n",
    "# model = SVC(kernel='rbf', decision_function_shape='ovr')\n",
    "model = SVC(kernel='rbf', decision_function_shape='ovo')\n",
    "\n",
    "\n",
    "# Fit model\n",
    "model.fit(X_tr, y_train_r.ravel())\n",
    "\n",
    "\n",
    "# Estimate class labels for test dataset\n",
    "y_e = model.predict(X_te)\n",
    "\n",
    "# Calculate mean accuracy\n",
    "acc = model.score(X_te, y_test_r)\n",
    "print(\"Mean accuracy: \", acc)\n",
    "\n",
    "# Calculate and show confusion matrix (accuracy is not enough)\n",
    "print(\"Confusion matrix:\")\n",
    "conf_matrix = confusion_matrix(y_test_r, y_e)\n",
    "print(conf_matrix)\n",
    "\n",
    "f1_score = f1_score(y_test_r, y_e, average=\"macro\")\n",
    "print(\"F1 score: \", f1_score)\n"
   ]
  },
  {
   "cell_type": "code",
   "execution_count": 7,
   "id": "e99d7fac",
   "metadata": {},
   "outputs": [],
   "source": [
    "# Walidacja modelu dla danych testowych"
   ]
  },
  {
   "cell_type": "code",
   "execution_count": 8,
   "id": "7229354e",
   "metadata": {},
   "outputs": [
    {
     "name": "stdout",
     "output_type": "stream",
     "text": [
      "(1, 10)\n",
      "True class codes at indexes [0, 1, 2]:  [0, 3, 9]\n",
      "Predicted class code:  [3]\n",
      "Predicted class label:  cat\n",
      "Scores for each class:  [[-1.39443118 -1.17437262  0.71549199]]\n",
      "True label:  plane\n"
     ]
    },
    {
     "data": {
      "image/png": "[encoded data removed]",
      "text/plain": [
       "<Figure size 432x288 with 1 Axes>"
      ]
     },
     "metadata": {
      "needs_background": "light"
     },
     "output_type": "display_data"
    }
   ],
   "source": [
    "test_example = 201\n",
    "size = X_te.shape[1]\n",
    "t = (X_te[test_example]).reshape((1,size))\n",
    "print(t.shape)\n",
    "\n",
    "y_e = model.predict(t)\n",
    "# Class labels were: indexes = [1,2,7]\n",
    "print(\"True class codes at indexes [0, 1, 2]: \", indexes)\n",
    "print(\"Predicted class code: \",y_e)\n",
    "print(\"Predicted class label: \", class_names[y_e[0]])\n",
    "\n",
    "scores = model.decision_function(t)\n",
    "print(\"Scores for each class: \", scores)\n",
    "print(\"True label: \",class_names[y_test[idx_test[test_example]][0]])\n",
    "\n",
    "plt.imshow(x_test[idx_test[test_example],:,:,:])\n",
    "plt.show()"
   ]
  },
  {
   "cell_type": "code",
   "execution_count": 9,
   "id": "3afc3b5b",
   "metadata": {},
   "outputs": [],
   "source": [
    "# Walidacja modelu dla dodatkowych danych testowych"
   ]
  },
  {
   "cell_type": "code",
   "execution_count": null,
   "id": "3dd889c8",
   "metadata": {},
   "outputs": [],
   "source": []
  },
  {
   "cell_type": "code",
   "execution_count": null,
   "id": "309a8011",
   "metadata": {},
   "outputs": [],
   "source": [
    "\n",
    "\n"
   ]
  },
  {
   "cell_type": "code",
   "execution_count": null,
   "id": "6f87853a",
   "metadata": {},
   "outputs": [],
   "source": []
  },
  {
   "cell_type": "code",
   "execution_count": null,
   "id": "61a67931",
   "metadata": {},
   "outputs": [],
   "source": []
  }
 ],
 "metadata": {
  "kernelspec": {
   "display_name": "Python 3",
   "language": "python",
   "name": "python3"
  },
  "language_info": {
   "codemirror_mode": {
    "name": "ipython",
    "version": 3
   },
   "file_extension": ".py",
   "mimetype": "text/x-python",
   "name": "python",
   "nbconvert_exporter": "python",
   "pygments_lexer": "ipython3",
   "version": "3.8.8"
  }
 },
 "nbformat": 4,
 "nbformat_minor": 5
}
